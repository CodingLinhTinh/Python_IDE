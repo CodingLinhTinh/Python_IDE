{
 "cells": [
  {
   "cell_type": "markdown",
   "id": "25f5361b-863b-4d25-8565-557862e27582",
   "metadata": {},
   "source": [
    "# Python IDE"
   ]
  },
  {
   "cell_type": "code",
   "execution_count": 1,
   "id": "0bdaee85-672a-4ec6-a214-a0cd9ad61c93",
   "metadata": {},
   "outputs": [],
   "source": [
    "from tkinter import *\n",
    "from tkinter.filedialog import asksaveasfilename, askopenfilename\n",
    "import subprocess"
   ]
  },
  {
   "cell_type": "code",
   "execution_count": 2,
   "id": "00712e5f-50d7-43a6-acb7-af6c00c1c217",
   "metadata": {},
   "outputs": [],
   "source": [
    "file_path = ''"
   ]
  },
  {
   "cell_type": "code",
   "execution_count": 3,
   "id": "52febbfe-5a45-4f36-a92b-05147825a8c2",
   "metadata": {},
   "outputs": [],
   "source": [
    "def set_file_path(path):\n",
    "    global file_path\n",
    "    file_path = path"
   ]
  },
  {
   "cell_type": "code",
   "execution_count": 4,
   "id": "6b6a4d8d-b247-4dfe-a1a6-cfa0519b3f6b",
   "metadata": {},
   "outputs": [],
   "source": [
    "def run():\n",
    "    #print('Code will run!')\n",
    "    \n",
    "    #code = editor.get('1.0', END)\n",
    "    #exec(code)\n",
    "    \n",
    "    # Optional: code_out.delete('1.0', END)\n",
    "    code_out.delete('1.0', END)\n",
    "    # Warning\n",
    "    if file_path == '':\n",
    "        save_promt = Toplevel()\n",
    "        text = Label(save_promt, text='Please save your files before running!')\n",
    "        text.pack()\n",
    "        \n",
    "        return\n",
    "    \n",
    "    # không ghi f'Python'...\n",
    "    command = f'python {file_path}'\n",
    "    print(command)\n",
    "    \n",
    "    process = subprocess.Popen(command.split(), stdout=subprocess.PIPE, stderr=subprocess.PIPE, shell=True)\n",
    "    output, error = process.communicate()\n",
    "    \n",
    "    code_out.insert('1.0', output)\n",
    "    code_err.insert('1.0', error)\n",
    "    \n",
    "    "
   ]
  },
  {
   "cell_type": "code",
   "execution_count": 5,
   "id": "0ca62bcf-6935-4682-a8a6-7371d8cf8139",
   "metadata": {},
   "outputs": [],
   "source": [
    "def exit():\n",
    "    compiler.destroy()"
   ]
  },
  {
   "cell_type": "code",
   "execution_count": 6,
   "id": "3aa3bdb1-cf6d-47c7-8441-20000658b6cf",
   "metadata": {},
   "outputs": [],
   "source": [
    "def save_as():\n",
    "    # Xét đã lưu file chưa?\n",
    "    if file_path == '':\n",
    "        path = asksaveasfilename(filetypes=[('Python FIles', '*py')])\n",
    "    else:\n",
    "        path = file_path\n",
    "    \n",
    "    with open(path, 'w') as file:\n",
    "        code = editor.get('1.0', END)\n",
    "        file.write(code)\n",
    "        set_file_path(path)\n",
    "    "
   ]
  },
  {
   "cell_type": "code",
   "execution_count": 7,
   "id": "ab14ac25-c5f2-4c10-a305-178b65e8847e",
   "metadata": {},
   "outputs": [],
   "source": [
    "def open_file():\n",
    "    path = askopenfilename(filetypes=[('Python FIles', '*py')])\n",
    "    with open(path, 'r') as file:\n",
    "        code = file.read()\n",
    "        editor.delete('1.0', END)\n",
    "        editor.insert('1.0', code)\n",
    "        set_file_path(path)"
   ]
  },
  {
   "cell_type": "code",
   "execution_count": 8,
   "id": "fcb678ce-dac9-4229-b2ac-3f189c656016",
   "metadata": {},
   "outputs": [
    {
     "name": "stdout",
     "output_type": "stream",
     "text": [
      "python D:/PythonProject/IDE/test.py\n",
      "python D:/PythonProject/IDE/test.py\n",
      "python D:/PythonProject/IDE/test.py\n"
     ]
    }
   ],
   "source": [
    "compiler = Tk()\n",
    "compiler.title('DIY IDE')\n",
    "\n",
    "# Menu Bar\n",
    "menu_bar = Menu(compiler)\n",
    "\n",
    "# File\n",
    "file_menu = Menu(menu_bar, tearoff=0)\n",
    "file_menu.add_command(label='Open', command=open_file)\n",
    "file_menu.add_command(label='Save', command=save_as)\n",
    "file_menu.add_command(label='Save As', command=save_as)\n",
    "file_menu.add_command(label='Exit', command=exit)\n",
    "\n",
    "menu_bar.add_cascade(label='File', menu=file_menu)\n",
    "\n",
    "## Run bar\n",
    "run_bar = Menu(menu_bar, tearoff=0)\n",
    "run_bar.add_command(label='Run', command=run)\n",
    "menu_bar.add_cascade(label='Run', menu=run_bar)\n",
    "\n",
    "\n",
    "compiler.config(menu=menu_bar)\n",
    "# Input text\n",
    "editor = Text(bg='#232D2E', fg='#FFF', insertbackground='#FFF')\n",
    "editor.pack()\n",
    "\n",
    "# Show Output\n",
    "code_out = Text(height=5, bg='#111617', fg='green')\n",
    "code_out.pack()\n",
    "\n",
    "# Show Error\n",
    "code_err = Text(height=7,bg='#141D18', fg='red')\n",
    "code_err.pack()\n",
    "\n",
    "compiler.mainloop()"
   ]
  },
  {
   "cell_type": "code",
   "execution_count": null,
   "id": "6d3977ae-9e2e-49b8-870d-bfa6ec8b2e27",
   "metadata": {},
   "outputs": [],
   "source": []
  },
  {
   "cell_type": "code",
   "execution_count": null,
   "id": "784f8ac7-cc24-4d20-9d80-f7593a475954",
   "metadata": {},
   "outputs": [],
   "source": []
  }
 ],
 "metadata": {
  "kernelspec": {
   "display_name": "Python 3 (ipykernel)",
   "language": "python",
   "name": "python3"
  },
  "language_info": {
   "codemirror_mode": {
    "name": "ipython",
    "version": 3
   },
   "file_extension": ".py",
   "mimetype": "text/x-python",
   "name": "python",
   "nbconvert_exporter": "python",
   "pygments_lexer": "ipython3",
   "version": "3.10.0"
  }
 },
 "nbformat": 4,
 "nbformat_minor": 5
}
